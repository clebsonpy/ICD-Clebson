{
 "cells": [
  {
   "cell_type": "code",
   "execution_count": 2,
   "metadata": {
    "collapsed": false
   },
   "outputs": [
    {
     "name": "stdout",
     "output_type": "stream",
     "text": [
      "Arquivo:  39620000\n",
      "Arquivo:  39700000\n",
      "Arquivo:  39740000\n",
      "Arquivo:  39760000\n",
      "Arquivo:  39850000\n",
      "Arquivo:  39870000\n",
      "Arquivo:  39890000\n",
      "Arquivo:  39980000\n",
      "Arquivo:  49330000\n",
      "Arquivo:  49370000\n",
      "Arquivo:  49490000\n",
      "Arquivo:  49660000\n"
     ]
    }
   ],
   "source": [
    "import manipulando as man\n",
    "import os\n",
    "import arquivoTxt as arq\n",
    "\n",
    "caminho = os.getcwd()\n",
    "dadosVazao = man.separaDadosConsisBruto(arq.trabaLinhas(caminho), tipo=2,lev=1)\n",
    "falhas, ganttBool, ganttSoma = man.falhas(dadosVazao)\n",
    "ganttBool.drop_duplicates(keep='last', inplace=True)\n",
    "aux = {}\n",
    "listaText = arq.listaTxt(caminho)\n",
    "for i in listaText:\n",
    "    aux[i] = man.periodoSemFalhas(ganttBool, nPosto = i)\n",
    "        \n",
    "dfgantt = man.dataFrameGantt(aux)"
   ]
  },
  {
   "cell_type": "code",
   "execution_count": 3,
   "metadata": {
    "collapsed": false,
    "scrolled": true
   },
   "outputs": [
    {
     "data": {
      "text/html": [
       "<div>\n",
       "<table border=\"1\" class=\"dataframe\">\n",
       "  <thead>\n",
       "    <tr style=\"text-align: right;\">\n",
       "      <th></th>\n",
       "      <th>Task</th>\n",
       "      <th>Start</th>\n",
       "      <th>Finish</th>\n",
       "      <th>Description</th>\n",
       "      <th>IndexCol</th>\n",
       "    </tr>\n",
       "  </thead>\n",
       "  <tbody>\n",
       "    <tr>\n",
       "      <th>0</th>\n",
       "      <td>39980000</td>\n",
       "      <td>1978-08-15 00:00:00</td>\n",
       "      <td>1989-12-31 00:00:00</td>\n",
       "      <td>39980000 - 0</td>\n",
       "      <td>39980000</td>\n",
       "    </tr>\n",
       "    <tr>\n",
       "      <th>1</th>\n",
       "      <td>39980000</td>\n",
       "      <td>1990-10-24 00:00:00</td>\n",
       "      <td>1996-05-29 00:00:00</td>\n",
       "      <td>39980000 - 1</td>\n",
       "      <td>39980000</td>\n",
       "    </tr>\n",
       "    <tr>\n",
       "      <th>2</th>\n",
       "      <td>39980000</td>\n",
       "      <td>2000-07-31 00:00:00</td>\n",
       "      <td>2004-07-31 00:00:00</td>\n",
       "      <td>39980000 - 2</td>\n",
       "      <td>39980000</td>\n",
       "    </tr>\n",
       "    <tr>\n",
       "      <th>3</th>\n",
       "      <td>39980000</td>\n",
       "      <td>2005-12-09 00:00:00</td>\n",
       "      <td>2006-12-31 00:00:00</td>\n",
       "      <td>39980000 - 3</td>\n",
       "      <td>39980000</td>\n",
       "    </tr>\n",
       "    <tr>\n",
       "      <th>4</th>\n",
       "      <td>39870000</td>\n",
       "      <td>1978-08-15 00:00:00</td>\n",
       "      <td>1989-07-12 00:00:00</td>\n",
       "      <td>39870000 - 0</td>\n",
       "      <td>39870000</td>\n",
       "    </tr>\n",
       "  </tbody>\n",
       "</table>\n",
       "</div>"
      ],
      "text/plain": [
       "       Task                Start               Finish   Description  IndexCol\n",
       "0  39980000  1978-08-15 00:00:00  1989-12-31 00:00:00  39980000 - 0  39980000\n",
       "1  39980000  1990-10-24 00:00:00  1996-05-29 00:00:00  39980000 - 1  39980000\n",
       "2  39980000  2000-07-31 00:00:00  2004-07-31 00:00:00  39980000 - 2  39980000\n",
       "3  39980000  2005-12-09 00:00:00  2006-12-31 00:00:00  39980000 - 3  39980000\n",
       "4  39870000  1978-08-15 00:00:00  1989-07-12 00:00:00  39870000 - 0  39870000"
      ]
     },
     "execution_count": 3,
     "metadata": {},
     "output_type": "execute_result"
    }
   ],
   "source": [
    "dfgantt.head()"
   ]
  },
  {
   "cell_type": "code",
   "execution_count": 25,
   "metadata": {
    "collapsed": false
   },
   "outputs": [
    {
     "ename": "NameError",
     "evalue": "name 'periodoSemFalhas' is not defined",
     "output_type": "error",
     "traceback": [
      "\u001b[0;31m---------------------------------------------------------------------------\u001b[0m",
      "\u001b[0;31mNameError\u001b[0m                                 Traceback (most recent call last)",
      "\u001b[0;32m<ipython-input-25-348acf1fa295>\u001b[0m in \u001b[0;36m<module>\u001b[0;34m()\u001b[0m\n\u001b[0;32m----> 1\u001b[0;31m \u001b[0mperiodoSemFalhas\u001b[0m\u001b[0;34m\u001b[0m\u001b[0m\n\u001b[0m",
      "\u001b[0;31mNameError\u001b[0m: name 'periodoSemFalhas' is not defined"
     ]
    }
   ],
   "source": [
    "periodoSemFalhas"
   ]
  },
  {
   "cell_type": "code",
   "execution_count": 4,
   "metadata": {
    "collapsed": false
   },
   "outputs": [],
   "source": [
    "import plotly.tools as tls\n",
    "tls.set_credentials_file(username='clebsonpy', api_key='Dtk2N7biK0BjJZHEJ5uf')\n",
    "tls.set_config_file(world_readable=True, sharing='public')"
   ]
  },
  {
   "cell_type": "code",
   "execution_count": 5,
   "metadata": {
    "collapsed": false
   },
   "outputs": [
    {
     "ename": "ImportError",
     "evalue": "No module named 'plotly.figure_factory'",
     "output_type": "error",
     "traceback": [
      "\u001b[0;31m---------------------------------------------------------------------------\u001b[0m",
      "\u001b[0;31mImportError\u001b[0m                               Traceback (most recent call last)",
      "\u001b[0;32m<ipython-input-5-61d8cbd165f0>\u001b[0m in \u001b[0;36m<module>\u001b[0;34m()\u001b[0m\n\u001b[0;32m----> 1\u001b[0;31m \u001b[1;32mimport\u001b[0m \u001b[0mplotly\u001b[0m\u001b[1;33m.\u001b[0m\u001b[0mfigure_factory\u001b[0m \u001b[1;32mas\u001b[0m \u001b[0mFF\u001b[0m\u001b[1;33m\u001b[0m\u001b[0m\n\u001b[0m\u001b[1;32m      2\u001b[0m \u001b[0mfig\u001b[0m \u001b[1;33m=\u001b[0m \u001b[0mFF\u001b[0m\u001b[1;33m.\u001b[0m\u001b[0mcreate_gantt\u001b[0m\u001b[1;33m(\u001b[0m\u001b[0mdfgantt\u001b[0m\u001b[1;33m,\u001b[0m \u001b[0mindex_col\u001b[0m\u001b[1;33m=\u001b[0m\u001b[1;34m'IndexCol'\u001b[0m\u001b[1;33m,\u001b[0m \u001b[0mcolors\u001b[0m \u001b[1;33m=\u001b[0m \u001b[1;33m[\u001b[0m\u001b[1;34m'#000000'\u001b[0m\u001b[1;33m]\u001b[0m\u001b[1;33m*\u001b[0m\u001b[1;36m12\u001b[0m\u001b[1;33m,\u001b[0m \u001b[0mgroup_tasks\u001b[0m\u001b[1;33m=\u001b[0m\u001b[1;32mTrue\u001b[0m\u001b[1;33m,\u001b[0m \u001b[0mbar_width\u001b[0m\u001b[1;33m=\u001b[0m\u001b[1;36m0.475\u001b[0m\u001b[1;33m)\u001b[0m\u001b[1;33m\u001b[0m\u001b[0m\n",
      "\u001b[0;31mImportError\u001b[0m: No module named 'plotly.figure_factory'"
     ]
    }
   ],
   "source": [
    "import plotly.figure_factory as FF\n",
    "fig = FF.create_gantt(dfgantt, index_col='IndexCol', colors = ['#000000']*12, group_tasks=True, bar_width=0.475)"
   ]
  },
  {
   "cell_type": "code",
   "execution_count": 6,
   "metadata": {
    "collapsed": false
   },
   "outputs": [],
   "source": [
    "import pandas as pd\n",
    "df = pd.read_csv('https://raw.githubusercontent.com/plotly/datasets/master/gantt_example.csv')"
   ]
  },
  {
   "cell_type": "code",
   "execution_count": 8,
   "metadata": {
    "collapsed": false
   },
   "outputs": [
    {
     "data": {
      "text/html": [
       "<div>\n",
       "<table border=\"1\" class=\"dataframe\">\n",
       "  <thead>\n",
       "    <tr style=\"text-align: right;\">\n",
       "      <th></th>\n",
       "      <th>Task</th>\n",
       "      <th>Start</th>\n",
       "      <th>Finish</th>\n",
       "      <th>Complete</th>\n",
       "      <th>Resource</th>\n",
       "    </tr>\n",
       "  </thead>\n",
       "  <tbody>\n",
       "    <tr>\n",
       "      <th>0</th>\n",
       "      <td>Job A</td>\n",
       "      <td>2009-01-01</td>\n",
       "      <td>2009-02-26</td>\n",
       "      <td>23</td>\n",
       "      <td>A</td>\n",
       "    </tr>\n",
       "    <tr>\n",
       "      <th>1</th>\n",
       "      <td>Job B</td>\n",
       "      <td>2009-03-05</td>\n",
       "      <td>2009-04-15</td>\n",
       "      <td>55</td>\n",
       "      <td>A</td>\n",
       "    </tr>\n",
       "    <tr>\n",
       "      <th>2</th>\n",
       "      <td>Job C</td>\n",
       "      <td>2009-02-20 12:40:00</td>\n",
       "      <td>2009-05-30 15:12:44</td>\n",
       "      <td>97</td>\n",
       "      <td>C</td>\n",
       "    </tr>\n",
       "    <tr>\n",
       "      <th>3</th>\n",
       "      <td>Job D</td>\n",
       "      <td>2009-03-10</td>\n",
       "      <td>2009-04-30</td>\n",
       "      <td>11</td>\n",
       "      <td>B</td>\n",
       "    </tr>\n",
       "    <tr>\n",
       "      <th>4</th>\n",
       "      <td>Job E</td>\n",
       "      <td>2009-02-25</td>\n",
       "      <td>2009-06-30</td>\n",
       "      <td>14</td>\n",
       "      <td>A</td>\n",
       "    </tr>\n",
       "  </tbody>\n",
       "</table>\n",
       "</div>"
      ],
      "text/plain": [
       "    Task                Start               Finish  Complete Resource\n",
       "0  Job A           2009-01-01           2009-02-26        23        A\n",
       "1  Job B           2009-03-05           2009-04-15        55        A\n",
       "2  Job C  2009-02-20 12:40:00  2009-05-30 15:12:44        97        C\n",
       "3  Job D           2009-03-10           2009-04-30        11        B\n",
       "4  Job E           2009-02-25           2009-06-30        14        A"
      ]
     },
     "execution_count": 8,
     "metadata": {},
     "output_type": "execute_result"
    }
   ],
   "source": [
    "df"
   ]
  },
  {
   "cell_type": "code",
   "execution_count": 7,
   "metadata": {
    "collapsed": false
   },
   "outputs": [
    {
     "ename": "TypeError",
     "evalue": "sequence item 0: expected str instance, int found",
     "output_type": "error",
     "traceback": [
      "\u001b[0;31m---------------------------------------------------------------------------\u001b[0m",
      "\u001b[0;31mTypeError\u001b[0m                                 Traceback (most recent call last)",
      "\u001b[0;32m<ipython-input-7-04632f94b039>\u001b[0m in \u001b[0;36m<module>\u001b[0;34m()\u001b[0m\n\u001b[0;32m----> 1\u001b[0;31m \u001b[0mfg\u001b[0m\u001b[0;34m.\u001b[0m\u001b[0miplot\u001b[0m\u001b[0;34m(\u001b[0m\u001b[0mkind\u001b[0m\u001b[0;34m=\u001b[0m\u001b[0;34m'scatter'\u001b[0m\u001b[0;34m,\u001b[0m \u001b[0mfilename\u001b[0m\u001b[0;34m=\u001b[0m\u001b[0;34m'hidrograma'\u001b[0m\u001b[0;34m)\u001b[0m\u001b[0;34m\u001b[0m\u001b[0m\n\u001b[0m",
      "\u001b[0;32m/home/clebson/miniconda3/lib/python3.5/site-packages/cufflinks/plotlytools.py\u001b[0m in \u001b[0;36m_iplot\u001b[0;34m(self, data, layout, filename, sharing, kind, title, xTitle, yTitle, zTitle, theme, colors, colorscale, fill, width, dash, mode, symbol, size, barmode, sortbars, bargap, bargroupgap, bins, histnorm, histfunc, orientation, boxpoints, annotations, keys, bestfit, bestfit_colors, mean, mean_colors, categories, x, y, z, text, gridcolor, zerolinecolor, margin, labels, values, secondary_y, subplots, shape, error_x, error_y, error_type, locations, lon, lat, asFrame, asDates, asFigure, asImage, dimensions, asPlot, asUrl, online, **kwargs)\u001b[0m\n\u001b[1;32m    702\u001b[0m \t\t\t\tdata=df.to_iplot(colors=colors,colorscale=colorscale,kind=kind,fill=fill,width=width,dash=dash,sortbars=sortbars,keys=keys,\n\u001b[1;32m    703\u001b[0m                                                 \u001b[0mbestfit\u001b[0m\u001b[0;34m=\u001b[0m\u001b[0mbestfit\u001b[0m\u001b[0;34m,\u001b[0m\u001b[0mbestfit_colors\u001b[0m\u001b[0;34m=\u001b[0m\u001b[0mbestfit_colors\u001b[0m\u001b[0;34m,\u001b[0m\u001b[0mmean\u001b[0m\u001b[0;34m=\u001b[0m\u001b[0mmean\u001b[0m\u001b[0;34m,\u001b[0m\u001b[0mmean_colors\u001b[0m\u001b[0;34m=\u001b[0m\u001b[0mmean_colors\u001b[0m\u001b[0;34m,\u001b[0m\u001b[0masDates\u001b[0m\u001b[0;34m=\u001b[0m\u001b[0masDates\u001b[0m\u001b[0;34m,\u001b[0m\u001b[0mmode\u001b[0m\u001b[0;34m=\u001b[0m\u001b[0mmode\u001b[0m\u001b[0;34m,\u001b[0m\u001b[0msymbol\u001b[0m\u001b[0;34m=\u001b[0m\u001b[0msymbol\u001b[0m\u001b[0;34m,\u001b[0m\u001b[0msize\u001b[0m\u001b[0;34m=\u001b[0m\u001b[0msize\u001b[0m\u001b[0;34m,\u001b[0m\u001b[0;34m\u001b[0m\u001b[0m\n\u001b[0;32m--> 704\u001b[0;31m \t\t\t\t\t\ttext=text,**kwargs)\t\t\t\t\n\u001b[0m\u001b[1;32m    705\u001b[0m                                 \u001b[0;32mif\u001b[0m \u001b[0mkind\u001b[0m \u001b[0;32min\u001b[0m \u001b[0;34m(\u001b[0m\u001b[0;34m'spread'\u001b[0m\u001b[0;34m,\u001b[0m\u001b[0;34m'ratio'\u001b[0m\u001b[0;34m)\u001b[0m\u001b[0;34m:\u001b[0m\u001b[0;34m\u001b[0m\u001b[0m\n\u001b[1;32m    706\u001b[0m                                                 \u001b[0;32mif\u001b[0m \u001b[0mkind\u001b[0m\u001b[0;34m==\u001b[0m\u001b[0;34m'spread'\u001b[0m\u001b[0;34m:\u001b[0m\u001b[0;34m\u001b[0m\u001b[0m\n",
      "\u001b[0;32m/home/clebson/miniconda3/lib/python3.5/site-packages/cufflinks/plotlytools.py\u001b[0m in \u001b[0;36m_to_iplot\u001b[0;34m(self, colors, colorscale, kind, mode, symbol, size, fill, width, dash, sortbars, keys, bestfit, bestfit_colors, mean, mean_colors, asDates, asTimestamp, text, **kwargs)\u001b[0m\n\u001b[1;32m    111\u001b[0m                 \u001b[0mx\u001b[0m\u001b[0;34m=\u001b[0m\u001b[0mdf\u001b[0m\u001b[0;34m.\u001b[0m\u001b[0mindex\u001b[0m\u001b[0;34m.\u001b[0m\u001b[0mformat\u001b[0m\u001b[0;34m(\u001b[0m\u001b[0;34m)\u001b[0m\u001b[0;34m\u001b[0m\u001b[0m\n\u001b[1;32m    112\u001b[0m         \u001b[0;32melif\u001b[0m \u001b[0misinstance\u001b[0m\u001b[0;34m(\u001b[0m\u001b[0mdf\u001b[0m\u001b[0;34m.\u001b[0m\u001b[0mindex\u001b[0m\u001b[0;34m,\u001b[0m\u001b[0mpd\u001b[0m\u001b[0;34m.\u001b[0m\u001b[0mMultiIndex\u001b[0m\u001b[0;34m)\u001b[0m\u001b[0;34m:\u001b[0m\u001b[0;34m\u001b[0m\u001b[0m\n\u001b[0;32m--> 113\u001b[0;31m                 \u001b[0mx\u001b[0m\u001b[0;34m=\u001b[0m\u001b[0;34m[\u001b[0m\u001b[0;34m'({0})'\u001b[0m\u001b[0;34m.\u001b[0m\u001b[0mformat\u001b[0m\u001b[0;34m(\u001b[0m\u001b[0;34m','\u001b[0m\u001b[0;34m.\u001b[0m\u001b[0mjoin\u001b[0m\u001b[0;34m(\u001b[0m\u001b[0m_\u001b[0m\u001b[0;34m)\u001b[0m\u001b[0;34m)\u001b[0m \u001b[0;32mfor\u001b[0m \u001b[0m_\u001b[0m \u001b[0;32min\u001b[0m \u001b[0mdf\u001b[0m\u001b[0;34m.\u001b[0m\u001b[0mindex\u001b[0m\u001b[0;34m.\u001b[0m\u001b[0mvalues\u001b[0m\u001b[0;34m]\u001b[0m\u001b[0;34m\u001b[0m\u001b[0m\n\u001b[0m\u001b[1;32m    114\u001b[0m         \u001b[0;32melse\u001b[0m\u001b[0;34m:\u001b[0m\u001b[0;34m\u001b[0m\u001b[0m\n\u001b[1;32m    115\u001b[0m                 \u001b[0mx\u001b[0m \u001b[0;34m=\u001b[0m \u001b[0mdf\u001b[0m\u001b[0;34m.\u001b[0m\u001b[0mindex\u001b[0m\u001b[0;34m.\u001b[0m\u001b[0mvalues\u001b[0m\u001b[0;34m\u001b[0m\u001b[0m\n",
      "\u001b[0;32m/home/clebson/miniconda3/lib/python3.5/site-packages/cufflinks/plotlytools.py\u001b[0m in \u001b[0;36m<listcomp>\u001b[0;34m(.0)\u001b[0m\n\u001b[1;32m    111\u001b[0m                 \u001b[0mx\u001b[0m\u001b[0;34m=\u001b[0m\u001b[0mdf\u001b[0m\u001b[0;34m.\u001b[0m\u001b[0mindex\u001b[0m\u001b[0;34m.\u001b[0m\u001b[0mformat\u001b[0m\u001b[0;34m(\u001b[0m\u001b[0;34m)\u001b[0m\u001b[0;34m\u001b[0m\u001b[0m\n\u001b[1;32m    112\u001b[0m         \u001b[0;32melif\u001b[0m \u001b[0misinstance\u001b[0m\u001b[0;34m(\u001b[0m\u001b[0mdf\u001b[0m\u001b[0;34m.\u001b[0m\u001b[0mindex\u001b[0m\u001b[0;34m,\u001b[0m\u001b[0mpd\u001b[0m\u001b[0;34m.\u001b[0m\u001b[0mMultiIndex\u001b[0m\u001b[0;34m)\u001b[0m\u001b[0;34m:\u001b[0m\u001b[0;34m\u001b[0m\u001b[0m\n\u001b[0;32m--> 113\u001b[0;31m                 \u001b[0mx\u001b[0m\u001b[0;34m=\u001b[0m\u001b[0;34m[\u001b[0m\u001b[0;34m'({0})'\u001b[0m\u001b[0;34m.\u001b[0m\u001b[0mformat\u001b[0m\u001b[0;34m(\u001b[0m\u001b[0;34m','\u001b[0m\u001b[0;34m.\u001b[0m\u001b[0mjoin\u001b[0m\u001b[0;34m(\u001b[0m\u001b[0m_\u001b[0m\u001b[0;34m)\u001b[0m\u001b[0;34m)\u001b[0m \u001b[0;32mfor\u001b[0m \u001b[0m_\u001b[0m \u001b[0;32min\u001b[0m \u001b[0mdf\u001b[0m\u001b[0;34m.\u001b[0m\u001b[0mindex\u001b[0m\u001b[0;34m.\u001b[0m\u001b[0mvalues\u001b[0m\u001b[0;34m]\u001b[0m\u001b[0;34m\u001b[0m\u001b[0m\n\u001b[0m\u001b[1;32m    114\u001b[0m         \u001b[0;32melse\u001b[0m\u001b[0;34m:\u001b[0m\u001b[0;34m\u001b[0m\u001b[0m\n\u001b[1;32m    115\u001b[0m                 \u001b[0mx\u001b[0m \u001b[0;34m=\u001b[0m \u001b[0mdf\u001b[0m\u001b[0;34m.\u001b[0m\u001b[0mindex\u001b[0m\u001b[0;34m.\u001b[0m\u001b[0mvalues\u001b[0m\u001b[0;34m\u001b[0m\u001b[0m\n",
      "\u001b[0;31mTypeError\u001b[0m: sequence item 0: expected str instance, int found"
     ]
    }
   ],
   "source": [
    "fg.iplot(kind='scatter', filename='hidrograma')"
   ]
  },
  {
   "cell_type": "code",
   "execution_count": 8,
   "metadata": {
    "collapsed": false
   },
   "outputs": [
    {
     "data": {
      "text/html": [
       "<div>\n",
       "<table border=\"1\" class=\"dataframe\">\n",
       "  <thead>\n",
       "    <tr style=\"text-align: right;\">\n",
       "      <th></th>\n",
       "      <th></th>\n",
       "      <th>1980</th>\n",
       "      <th>1981</th>\n",
       "      <th>1982</th>\n",
       "      <th>1983</th>\n",
       "      <th>1984</th>\n",
       "      <th>1985</th>\n",
       "      <th>1986</th>\n",
       "      <th>1987</th>\n",
       "      <th>1988</th>\n",
       "      <th>1989</th>\n",
       "      <th>...</th>\n",
       "      <th>2007</th>\n",
       "      <th>2008</th>\n",
       "      <th>2009</th>\n",
       "      <th>2010</th>\n",
       "      <th>2011</th>\n",
       "      <th>2012</th>\n",
       "      <th>2013</th>\n",
       "      <th>2014</th>\n",
       "      <th>2015</th>\n",
       "      <th>2016</th>\n",
       "    </tr>\n",
       "    <tr>\n",
       "      <th>Mes</th>\n",
       "      <th>Dia</th>\n",
       "      <th></th>\n",
       "      <th></th>\n",
       "      <th></th>\n",
       "      <th></th>\n",
       "      <th></th>\n",
       "      <th></th>\n",
       "      <th></th>\n",
       "      <th></th>\n",
       "      <th></th>\n",
       "      <th></th>\n",
       "      <th></th>\n",
       "      <th></th>\n",
       "      <th></th>\n",
       "      <th></th>\n",
       "      <th></th>\n",
       "      <th></th>\n",
       "      <th></th>\n",
       "      <th></th>\n",
       "      <th></th>\n",
       "      <th></th>\n",
       "      <th></th>\n",
       "    </tr>\n",
       "  </thead>\n",
       "  <tbody>\n",
       "    <tr>\n",
       "      <th rowspan=\"5\" valign=\"top\">1</th>\n",
       "      <th>1</th>\n",
       "      <td>3110.208</td>\n",
       "      <td>5559.988</td>\n",
       "      <td>6954.737</td>\n",
       "      <td>2130.364</td>\n",
       "      <td>6343.621</td>\n",
       "      <td>2012.233</td>\n",
       "      <td>1949.013</td>\n",
       "      <td>2060.211</td>\n",
       "      <td>1724.629</td>\n",
       "      <td>1369.528</td>\n",
       "      <td>...</td>\n",
       "      <td>1885.574</td>\n",
       "      <td>1413.264</td>\n",
       "      <td>1328.211</td>\n",
       "      <td>1353.161</td>\n",
       "      <td>1470.308</td>\n",
       "      <td>1522.862</td>\n",
       "      <td>1641.995</td>\n",
       "      <td>1047.821</td>\n",
       "      <td>1072.015</td>\n",
       "      <td>NaN</td>\n",
       "    </tr>\n",
       "    <tr>\n",
       "      <th>2</th>\n",
       "      <td>3578.398</td>\n",
       "      <td>5518.021</td>\n",
       "      <td>7013.894</td>\n",
       "      <td>2054.856</td>\n",
       "      <td>6354.882</td>\n",
       "      <td>2168.554</td>\n",
       "      <td>1996.347</td>\n",
       "      <td>2141.246</td>\n",
       "      <td>1592.777</td>\n",
       "      <td>1378.542</td>\n",
       "      <td>...</td>\n",
       "      <td>2330.227</td>\n",
       "      <td>1471.401</td>\n",
       "      <td>1299.380</td>\n",
       "      <td>1468.137</td>\n",
       "      <td>1437.904</td>\n",
       "      <td>1596.542</td>\n",
       "      <td>2268.559</td>\n",
       "      <td>1040.429</td>\n",
       "      <td>1087.033</td>\n",
       "      <td>865.6616</td>\n",
       "    </tr>\n",
       "    <tr>\n",
       "      <th>3</th>\n",
       "      <td>3611.942</td>\n",
       "      <td>5507.555</td>\n",
       "      <td>6490.822</td>\n",
       "      <td>2163.080</td>\n",
       "      <td>6276.272</td>\n",
       "      <td>2455.477</td>\n",
       "      <td>2709.122</td>\n",
       "      <td>2346.807</td>\n",
       "      <td>1729.598</td>\n",
       "      <td>1759.541</td>\n",
       "      <td>...</td>\n",
       "      <td>2550.785</td>\n",
       "      <td>1354.142</td>\n",
       "      <td>1274.906</td>\n",
       "      <td>1472.480</td>\n",
       "      <td>1603.322</td>\n",
       "      <td>1966.965</td>\n",
       "      <td>2511.509</td>\n",
       "      <td>1042.275</td>\n",
       "      <td>1087.033</td>\n",
       "      <td>858.2587</td>\n",
       "    </tr>\n",
       "    <tr>\n",
       "      <th>4</th>\n",
       "      <td>3688.010</td>\n",
       "      <td>5633.827</td>\n",
       "      <td>6422.666</td>\n",
       "      <td>2130.364</td>\n",
       "      <td>6400.030</td>\n",
       "      <td>2443.939</td>\n",
       "      <td>3157.066</td>\n",
       "      <td>2179.518</td>\n",
       "      <td>1949.013</td>\n",
       "      <td>1840.460</td>\n",
       "      <td>...</td>\n",
       "      <td>2478.073</td>\n",
       "      <td>1366.711</td>\n",
       "      <td>1303.481</td>\n",
       "      <td>1781.955</td>\n",
       "      <td>1957.013</td>\n",
       "      <td>2357.282</td>\n",
       "      <td>2379.032</td>\n",
       "      <td>1038.585</td>\n",
       "      <td>1079.511</td>\n",
       "      <td>855.3092</td>\n",
       "    </tr>\n",
       "    <tr>\n",
       "      <th>5</th>\n",
       "      <td>3388.667</td>\n",
       "      <td>5581.033</td>\n",
       "      <td>6778.824</td>\n",
       "      <td>2119.506</td>\n",
       "      <td>6276.272</td>\n",
       "      <td>2352.474</td>\n",
       "      <td>2536.889</td>\n",
       "      <td>2207.032</td>\n",
       "      <td>2207.032</td>\n",
       "      <td>1907.347</td>\n",
       "      <td>...</td>\n",
       "      <td>2598.863</td>\n",
       "      <td>1335.392</td>\n",
       "      <td>1525.070</td>\n",
       "      <td>1964.475</td>\n",
       "      <td>1902.703</td>\n",
       "      <td>2354.570</td>\n",
       "      <td>2330.227</td>\n",
       "      <td>1087.033</td>\n",
       "      <td>1083.269</td>\n",
       "      <td>862.6954</td>\n",
       "    </tr>\n",
       "  </tbody>\n",
       "</table>\n",
       "<p>5 rows × 37 columns</p>\n",
       "</div>"
      ],
      "text/plain": [
       "             1980      1981      1982      1983      1984      1985      1986  \\\n",
       "Mes Dia                                                                         \n",
       "1   1    3110.208  5559.988  6954.737  2130.364  6343.621  2012.233  1949.013   \n",
       "    2    3578.398  5518.021  7013.894  2054.856  6354.882  2168.554  1996.347   \n",
       "    3    3611.942  5507.555  6490.822  2163.080  6276.272  2455.477  2709.122   \n",
       "    4    3688.010  5633.827  6422.666  2130.364  6400.030  2443.939  3157.066   \n",
       "    5    3388.667  5581.033  6778.824  2119.506  6276.272  2352.474  2536.889   \n",
       "\n",
       "             1987      1988      1989    ...         2007      2008      2009  \\\n",
       "Mes Dia                                  ...                                    \n",
       "1   1    2060.211  1724.629  1369.528    ...     1885.574  1413.264  1328.211   \n",
       "    2    2141.246  1592.777  1378.542    ...     2330.227  1471.401  1299.380   \n",
       "    3    2346.807  1729.598  1759.541    ...     2550.785  1354.142  1274.906   \n",
       "    4    2179.518  1949.013  1840.460    ...     2478.073  1366.711  1303.481   \n",
       "    5    2207.032  2207.032  1907.347    ...     2598.863  1335.392  1525.070   \n",
       "\n",
       "             2010      2011      2012      2013      2014      2015      2016  \n",
       "Mes Dia                                                                        \n",
       "1   1    1353.161  1470.308  1522.862  1641.995  1047.821  1072.015       NaN  \n",
       "    2    1468.137  1437.904  1596.542  2268.559  1040.429  1087.033  865.6616  \n",
       "    3    1472.480  1603.322  1966.965  2511.509  1042.275  1087.033  858.2587  \n",
       "    4    1781.955  1957.013  2357.282  2379.032  1038.585  1079.511  855.3092  \n",
       "    5    1964.475  1902.703  2354.570  2330.227  1087.033  1083.269  862.6954  \n",
       "\n",
       "[5 rows x 37 columns]"
      ]
     },
     "execution_count": 8,
     "metadata": {},
     "output_type": "execute_result"
    }
   ],
   "source": [
    "fg.head()"
   ]
  },
  {
   "cell_type": "code",
   "execution_count": 9,
   "metadata": {
    "collapsed": false
   },
   "outputs": [
    {
     "data": {
      "text/html": [
       "<iframe id=\"igraph\" scrolling=\"no\" style=\"border:none;\" seamless=\"seamless\" src=\"https://plot.ly/~clebsonpy/19.embed\" height=\"525px\" width=\"100%\"></iframe>"
      ],
      "text/plain": [
       "<plotly.tools.PlotlyDisplay object>"
      ]
     },
     "execution_count": 9,
     "metadata": {},
     "output_type": "execute_result"
    }
   ],
   "source": [
    "dadosVazao['49330000'].iplot(kind='scatter', \n",
    "                             filename='Hidrogrma', \n",
    "                             yTitle='Vazão',\n",
    "                             xTitle='Data')"
   ]
  },
  {
   "cell_type": "code",
   "execution_count": 10,
   "metadata": {
    "collapsed": true
   },
   "outputs": [],
   "source": [
    "import plotly.figure_factory as ff"
   ]
  },
  {
   "cell_type": "code",
   "execution_count": 13,
   "metadata": {
    "collapsed": false
   },
   "outputs": [
    {
     "data": {
      "text/plain": [
       "Data\n",
       "1979-01-01   NaN\n",
       "1979-01-02   NaN\n",
       "1979-01-03   NaN\n",
       "1979-01-04   NaN\n",
       "1979-01-05   NaN\n",
       "Name: 44300000, dtype: float64"
      ]
     },
     "execution_count": 13,
     "metadata": {},
     "output_type": "execute_result"
    }
   ],
   "source": [
    "dadosVazao['44300000'].head()"
   ]
  },
  {
   "cell_type": "code",
   "execution_count": null,
   "metadata": {
    "collapsed": true
   },
   "outputs": [],
   "source": []
  },
  {
   "cell_type": "code",
   "execution_count": null,
   "metadata": {
    "collapsed": true
   },
   "outputs": [],
   "source": []
  }
 ],
 "metadata": {
  "kernelspec": {
   "display_name": "Python 3",
   "language": "python",
   "name": "python3"
  },
  "language_info": {
   "codemirror_mode": {
    "name": "ipython",
    "version": 3
   },
   "file_extension": ".py",
   "mimetype": "text/x-python",
   "name": "python",
   "nbconvert_exporter": "python",
   "pygments_lexer": "ipython3",
   "version": "3.5.2"
  }
 },
 "nbformat": 4,
 "nbformat_minor": 2
}
