{
 "cells": [
  {
   "cell_type": "code",
   "execution_count": 28,
   "metadata": {
    "collapsed": false
   },
   "outputs": [
    {
     "name": "stdout",
     "output_type": "stream",
     "text": [
      "Arquivo:  39700000\n",
      "Arquivo:  39620000\n",
      "Arquivo:  49330000\n",
      "Arquivo:  39850000\n",
      "Arquivo:  39760000\n",
      "Arquivo:  49370000\n",
      "Arquivo:  49490000\n",
      "Arquivo:  39870000\n",
      "Arquivo:  39740000\n",
      "Arquivo:  39980000\n",
      "Arquivo:  49660000\n",
      "Arquivo:  39890000\n"
     ]
    }
   ],
   "source": [
    "import manipulando as man\n",
    "import os\n",
    "import arquivoTxt as arq\n",
    "\n",
    "caminho = os.getcwd()\n",
    "dadosVazao = man.separaDadosConsisBruto(arq.trabaLinhas(caminho), tipo=2,lev=1)\n",
    "falhas, ganttBool, ganttSoma = man.falhas(dadosVazao)\n",
    "ganttBool.drop_duplicates(keep='last', inplace=True)\n",
    "aux = {}\n",
    "listaText = arq.listaTxt(caminho)\n",
    "for i in listaText:\n",
    "    aux[i] = man.periodoSemFalhas(ganttBool, nPosto = i)\n",
    "        \n",
    "dfgantt = man.dataFrameGantt(aux)"
   ]
  },
  {
   "cell_type": "code",
   "execution_count": 30,
   "metadata": {
    "collapsed": false,
    "scrolled": false
   },
   "outputs": [
    {
     "data": {
      "text/html": [
       "<div>\n",
       "<table border=\"1\" class=\"dataframe\">\n",
       "  <thead>\n",
       "    <tr style=\"text-align: right;\">\n",
       "      <th></th>\n",
       "      <th>Task</th>\n",
       "      <th>Start</th>\n",
       "      <th>Finish</th>\n",
       "      <th>Description</th>\n",
       "      <th>IndexCol</th>\n",
       "    </tr>\n",
       "  </thead>\n",
       "  <tbody>\n",
       "    <tr>\n",
       "      <th>0</th>\n",
       "      <td>39890000</td>\n",
       "      <td>1989-07-12 00:00:00</td>\n",
       "      <td>1990-10-24 00:00:00</td>\n",
       "      <td>39890000 - 0</td>\n",
       "      <td>0</td>\n",
       "    </tr>\n",
       "    <tr>\n",
       "      <th>1</th>\n",
       "      <td>39890000</td>\n",
       "      <td>1992-08-18 00:00:00</td>\n",
       "      <td>1994-12-16 00:00:00</td>\n",
       "      <td>39890000 - 1</td>\n",
       "      <td>1</td>\n",
       "    </tr>\n",
       "    <tr>\n",
       "      <th>2</th>\n",
       "      <td>39890000</td>\n",
       "      <td>2000-06-13 00:00:00</td>\n",
       "      <td>2002-12-20 00:00:00</td>\n",
       "      <td>39890000 - 2</td>\n",
       "      <td>0</td>\n",
       "    </tr>\n",
       "    <tr>\n",
       "      <th>3</th>\n",
       "      <td>39890000</td>\n",
       "      <td>2005-05-29 00:00:00</td>\n",
       "      <td>2007-12-31 00:00:00</td>\n",
       "      <td>39890000 - 3</td>\n",
       "      <td>1</td>\n",
       "    </tr>\n",
       "    <tr>\n",
       "      <th>4</th>\n",
       "      <td>39980000</td>\n",
       "      <td>1978-08-15 00:00:00</td>\n",
       "      <td>1989-12-31 00:00:00</td>\n",
       "      <td>39980000 - 0</td>\n",
       "      <td>0</td>\n",
       "    </tr>\n",
       "  </tbody>\n",
       "</table>\n",
       "</div>"
      ],
      "text/plain": [
       "       Task                Start               Finish   Description IndexCol\n",
       "0  39890000  1989-07-12 00:00:00  1990-10-24 00:00:00  39890000 - 0        0\n",
       "1  39890000  1992-08-18 00:00:00  1994-12-16 00:00:00  39890000 - 1        1\n",
       "2  39890000  2000-06-13 00:00:00  2002-12-20 00:00:00  39890000 - 2        0\n",
       "3  39890000  2005-05-29 00:00:00  2007-12-31 00:00:00  39890000 - 3        1\n",
       "4  39980000  1978-08-15 00:00:00  1989-12-31 00:00:00  39980000 - 0        0"
      ]
     },
     "execution_count": 30,
     "metadata": {},
     "output_type": "execute_result"
    }
   ],
   "source": [
    "dfgantt.head()"
   ]
  },
  {
   "cell_type": "code",
   "execution_count": 25,
   "metadata": {
    "collapsed": false
   },
   "outputs": [
    {
     "ename": "NameError",
     "evalue": "name 'periodoSemFalhas' is not defined",
     "output_type": "error",
     "traceback": [
      "\u001b[0;31m---------------------------------------------------------------------------\u001b[0m",
      "\u001b[0;31mNameError\u001b[0m                                 Traceback (most recent call last)",
      "\u001b[0;32m<ipython-input-25-348acf1fa295>\u001b[0m in \u001b[0;36m<module>\u001b[0;34m()\u001b[0m\n\u001b[0;32m----> 1\u001b[0;31m \u001b[0mperiodoSemFalhas\u001b[0m\u001b[0;34m\u001b[0m\u001b[0m\n\u001b[0m",
      "\u001b[0;31mNameError\u001b[0m: name 'periodoSemFalhas' is not defined"
     ]
    }
   ],
   "source": [
    "periodoSemFalhas"
   ]
  },
  {
   "cell_type": "code",
   "execution_count": 26,
   "metadata": {
    "collapsed": false
   },
   "outputs": [],
   "source": [
    "import plotly.tools as tls\n",
    "tls.set_credentials_file(username='clebsonpy', api_key='Dtk2N7biK0BjJZHEJ5uf')\n",
    "tls.set_config_file(world_readable=True, sharing='public')"
   ]
  },
  {
   "cell_type": "code",
   "execution_count": 18,
   "metadata": {
    "collapsed": false
   },
   "outputs": [],
   "source": [
    "import plotly.figure_factory as FF\n",
    "#colors = {0: '#000000', 1: '#858585'}\n",
    "fig = FF.create_gantt(dfgantt, index_col='IndexCol', colors = ['#000000', '#858585'], group_tasks=True, bar_width=0.475)"
   ]
  },
  {
   "cell_type": "code",
   "execution_count": 6,
   "metadata": {
    "collapsed": false
   },
   "outputs": [],
   "source": [
    "import pandas as pd\n",
    "df = pd.read_csv('https://raw.githubusercontent.com/plotly/datasets/master/gantt_example.csv')"
   ]
  },
  {
   "cell_type": "code",
   "execution_count": 8,
   "metadata": {
    "collapsed": false
   },
   "outputs": [
    {
     "data": {
      "text/html": [
       "<div>\n",
       "<table border=\"1\" class=\"dataframe\">\n",
       "  <thead>\n",
       "    <tr style=\"text-align: right;\">\n",
       "      <th></th>\n",
       "      <th>Task</th>\n",
       "      <th>Start</th>\n",
       "      <th>Finish</th>\n",
       "      <th>Complete</th>\n",
       "      <th>Resource</th>\n",
       "    </tr>\n",
       "  </thead>\n",
       "  <tbody>\n",
       "    <tr>\n",
       "      <th>0</th>\n",
       "      <td>Job A</td>\n",
       "      <td>2009-01-01</td>\n",
       "      <td>2009-02-26</td>\n",
       "      <td>23</td>\n",
       "      <td>A</td>\n",
       "    </tr>\n",
       "    <tr>\n",
       "      <th>1</th>\n",
       "      <td>Job B</td>\n",
       "      <td>2009-03-05</td>\n",
       "      <td>2009-04-15</td>\n",
       "      <td>55</td>\n",
       "      <td>A</td>\n",
       "    </tr>\n",
       "    <tr>\n",
       "      <th>2</th>\n",
       "      <td>Job C</td>\n",
       "      <td>2009-02-20 12:40:00</td>\n",
       "      <td>2009-05-30 15:12:44</td>\n",
       "      <td>97</td>\n",
       "      <td>C</td>\n",
       "    </tr>\n",
       "    <tr>\n",
       "      <th>3</th>\n",
       "      <td>Job D</td>\n",
       "      <td>2009-03-10</td>\n",
       "      <td>2009-04-30</td>\n",
       "      <td>11</td>\n",
       "      <td>B</td>\n",
       "    </tr>\n",
       "    <tr>\n",
       "      <th>4</th>\n",
       "      <td>Job E</td>\n",
       "      <td>2009-02-25</td>\n",
       "      <td>2009-06-30</td>\n",
       "      <td>14</td>\n",
       "      <td>A</td>\n",
       "    </tr>\n",
       "  </tbody>\n",
       "</table>\n",
       "</div>"
      ],
      "text/plain": [
       "    Task                Start               Finish  Complete Resource\n",
       "0  Job A           2009-01-01           2009-02-26        23        A\n",
       "1  Job B           2009-03-05           2009-04-15        55        A\n",
       "2  Job C  2009-02-20 12:40:00  2009-05-30 15:12:44        97        C\n",
       "3  Job D           2009-03-10           2009-04-30        11        B\n",
       "4  Job E           2009-02-25           2009-06-30        14        A"
      ]
     },
     "execution_count": 8,
     "metadata": {},
     "output_type": "execute_result"
    }
   ],
   "source": [
    "df"
   ]
  },
  {
   "cell_type": "code",
   "execution_count": 32,
   "metadata": {
    "collapsed": false
   },
   "outputs": [
    {
     "name": "stderr",
     "output_type": "stream",
     "text": [
      "/home/clebson/miniconda3/lib/python3.5/site-packages/plotly/offline/offline.py:440: UserWarning:\n",
      "\n",
      "Your filename `ganttChart` didn't end with .html. Adding .html to the end of your file.\n",
      "\n"
     ]
    },
    {
     "data": {
      "text/plain": [
       "'file:///home/clebson/ICD-Clebson/ganttChart.html'"
      ]
     },
     "execution_count": 32,
     "metadata": {},
     "output_type": "execute_result"
    }
   ],
   "source": [
    "import plotly.offline as off\n",
    "off.plot(fig, filename='ganttChart')"
   ]
  },
  {
   "cell_type": "code",
   "execution_count": 8,
   "metadata": {
    "collapsed": false
   },
   "outputs": [
    {
     "data": {
      "text/html": [
       "<div>\n",
       "<table border=\"1\" class=\"dataframe\">\n",
       "  <thead>\n",
       "    <tr style=\"text-align: right;\">\n",
       "      <th></th>\n",
       "      <th></th>\n",
       "      <th>1980</th>\n",
       "      <th>1981</th>\n",
       "      <th>1982</th>\n",
       "      <th>1983</th>\n",
       "      <th>1984</th>\n",
       "      <th>1985</th>\n",
       "      <th>1986</th>\n",
       "      <th>1987</th>\n",
       "      <th>1988</th>\n",
       "      <th>1989</th>\n",
       "      <th>...</th>\n",
       "      <th>2007</th>\n",
       "      <th>2008</th>\n",
       "      <th>2009</th>\n",
       "      <th>2010</th>\n",
       "      <th>2011</th>\n",
       "      <th>2012</th>\n",
       "      <th>2013</th>\n",
       "      <th>2014</th>\n",
       "      <th>2015</th>\n",
       "      <th>2016</th>\n",
       "    </tr>\n",
       "    <tr>\n",
       "      <th>Mes</th>\n",
       "      <th>Dia</th>\n",
       "      <th></th>\n",
       "      <th></th>\n",
       "      <th></th>\n",
       "      <th></th>\n",
       "      <th></th>\n",
       "      <th></th>\n",
       "      <th></th>\n",
       "      <th></th>\n",
       "      <th></th>\n",
       "      <th></th>\n",
       "      <th></th>\n",
       "      <th></th>\n",
       "      <th></th>\n",
       "      <th></th>\n",
       "      <th></th>\n",
       "      <th></th>\n",
       "      <th></th>\n",
       "      <th></th>\n",
       "      <th></th>\n",
       "      <th></th>\n",
       "      <th></th>\n",
       "    </tr>\n",
       "  </thead>\n",
       "  <tbody>\n",
       "    <tr>\n",
       "      <th rowspan=\"5\" valign=\"top\">1</th>\n",
       "      <th>1</th>\n",
       "      <td>3110.208</td>\n",
       "      <td>5559.988</td>\n",
       "      <td>6954.737</td>\n",
       "      <td>2130.364</td>\n",
       "      <td>6343.621</td>\n",
       "      <td>2012.233</td>\n",
       "      <td>1949.013</td>\n",
       "      <td>2060.211</td>\n",
       "      <td>1724.629</td>\n",
       "      <td>1369.528</td>\n",
       "      <td>...</td>\n",
       "      <td>1885.574</td>\n",
       "      <td>1413.264</td>\n",
       "      <td>1328.211</td>\n",
       "      <td>1353.161</td>\n",
       "      <td>1470.308</td>\n",
       "      <td>1522.862</td>\n",
       "      <td>1641.995</td>\n",
       "      <td>1047.821</td>\n",
       "      <td>1072.015</td>\n",
       "      <td>NaN</td>\n",
       "    </tr>\n",
       "    <tr>\n",
       "      <th>2</th>\n",
       "      <td>3578.398</td>\n",
       "      <td>5518.021</td>\n",
       "      <td>7013.894</td>\n",
       "      <td>2054.856</td>\n",
       "      <td>6354.882</td>\n",
       "      <td>2168.554</td>\n",
       "      <td>1996.347</td>\n",
       "      <td>2141.246</td>\n",
       "      <td>1592.777</td>\n",
       "      <td>1378.542</td>\n",
       "      <td>...</td>\n",
       "      <td>2330.227</td>\n",
       "      <td>1471.401</td>\n",
       "      <td>1299.380</td>\n",
       "      <td>1468.137</td>\n",
       "      <td>1437.904</td>\n",
       "      <td>1596.542</td>\n",
       "      <td>2268.559</td>\n",
       "      <td>1040.429</td>\n",
       "      <td>1087.033</td>\n",
       "      <td>865.6616</td>\n",
       "    </tr>\n",
       "    <tr>\n",
       "      <th>3</th>\n",
       "      <td>3611.942</td>\n",
       "      <td>5507.555</td>\n",
       "      <td>6490.822</td>\n",
       "      <td>2163.080</td>\n",
       "      <td>6276.272</td>\n",
       "      <td>2455.477</td>\n",
       "      <td>2709.122</td>\n",
       "      <td>2346.807</td>\n",
       "      <td>1729.598</td>\n",
       "      <td>1759.541</td>\n",
       "      <td>...</td>\n",
       "      <td>2550.785</td>\n",
       "      <td>1354.142</td>\n",
       "      <td>1274.906</td>\n",
       "      <td>1472.480</td>\n",
       "      <td>1603.322</td>\n",
       "      <td>1966.965</td>\n",
       "      <td>2511.509</td>\n",
       "      <td>1042.275</td>\n",
       "      <td>1087.033</td>\n",
       "      <td>858.2587</td>\n",
       "    </tr>\n",
       "    <tr>\n",
       "      <th>4</th>\n",
       "      <td>3688.010</td>\n",
       "      <td>5633.827</td>\n",
       "      <td>6422.666</td>\n",
       "      <td>2130.364</td>\n",
       "      <td>6400.030</td>\n",
       "      <td>2443.939</td>\n",
       "      <td>3157.066</td>\n",
       "      <td>2179.518</td>\n",
       "      <td>1949.013</td>\n",
       "      <td>1840.460</td>\n",
       "      <td>...</td>\n",
       "      <td>2478.073</td>\n",
       "      <td>1366.711</td>\n",
       "      <td>1303.481</td>\n",
       "      <td>1781.955</td>\n",
       "      <td>1957.013</td>\n",
       "      <td>2357.282</td>\n",
       "      <td>2379.032</td>\n",
       "      <td>1038.585</td>\n",
       "      <td>1079.511</td>\n",
       "      <td>855.3092</td>\n",
       "    </tr>\n",
       "    <tr>\n",
       "      <th>5</th>\n",
       "      <td>3388.667</td>\n",
       "      <td>5581.033</td>\n",
       "      <td>6778.824</td>\n",
       "      <td>2119.506</td>\n",
       "      <td>6276.272</td>\n",
       "      <td>2352.474</td>\n",
       "      <td>2536.889</td>\n",
       "      <td>2207.032</td>\n",
       "      <td>2207.032</td>\n",
       "      <td>1907.347</td>\n",
       "      <td>...</td>\n",
       "      <td>2598.863</td>\n",
       "      <td>1335.392</td>\n",
       "      <td>1525.070</td>\n",
       "      <td>1964.475</td>\n",
       "      <td>1902.703</td>\n",
       "      <td>2354.570</td>\n",
       "      <td>2330.227</td>\n",
       "      <td>1087.033</td>\n",
       "      <td>1083.269</td>\n",
       "      <td>862.6954</td>\n",
       "    </tr>\n",
       "  </tbody>\n",
       "</table>\n",
       "<p>5 rows × 37 columns</p>\n",
       "</div>"
      ],
      "text/plain": [
       "             1980      1981      1982      1983      1984      1985      1986  \\\n",
       "Mes Dia                                                                         \n",
       "1   1    3110.208  5559.988  6954.737  2130.364  6343.621  2012.233  1949.013   \n",
       "    2    3578.398  5518.021  7013.894  2054.856  6354.882  2168.554  1996.347   \n",
       "    3    3611.942  5507.555  6490.822  2163.080  6276.272  2455.477  2709.122   \n",
       "    4    3688.010  5633.827  6422.666  2130.364  6400.030  2443.939  3157.066   \n",
       "    5    3388.667  5581.033  6778.824  2119.506  6276.272  2352.474  2536.889   \n",
       "\n",
       "             1987      1988      1989    ...         2007      2008      2009  \\\n",
       "Mes Dia                                  ...                                    \n",
       "1   1    2060.211  1724.629  1369.528    ...     1885.574  1413.264  1328.211   \n",
       "    2    2141.246  1592.777  1378.542    ...     2330.227  1471.401  1299.380   \n",
       "    3    2346.807  1729.598  1759.541    ...     2550.785  1354.142  1274.906   \n",
       "    4    2179.518  1949.013  1840.460    ...     2478.073  1366.711  1303.481   \n",
       "    5    2207.032  2207.032  1907.347    ...     2598.863  1335.392  1525.070   \n",
       "\n",
       "             2010      2011      2012      2013      2014      2015      2016  \n",
       "Mes Dia                                                                        \n",
       "1   1    1353.161  1470.308  1522.862  1641.995  1047.821  1072.015       NaN  \n",
       "    2    1468.137  1437.904  1596.542  2268.559  1040.429  1087.033  865.6616  \n",
       "    3    1472.480  1603.322  1966.965  2511.509  1042.275  1087.033  858.2587  \n",
       "    4    1781.955  1957.013  2357.282  2379.032  1038.585  1079.511  855.3092  \n",
       "    5    1964.475  1902.703  2354.570  2330.227  1087.033  1083.269  862.6954  \n",
       "\n",
       "[5 rows x 37 columns]"
      ]
     },
     "execution_count": 8,
     "metadata": {},
     "output_type": "execute_result"
    }
   ],
   "source": [
    "fg.head()"
   ]
  },
  {
   "cell_type": "code",
   "execution_count": 9,
   "metadata": {
    "collapsed": false
   },
   "outputs": [
    {
     "data": {
      "text/html": [
       "<iframe id=\"igraph\" scrolling=\"no\" style=\"border:none;\" seamless=\"seamless\" src=\"https://plot.ly/~clebsonpy/19.embed\" height=\"525px\" width=\"100%\"></iframe>"
      ],
      "text/plain": [
       "<plotly.tools.PlotlyDisplay object>"
      ]
     },
     "execution_count": 9,
     "metadata": {},
     "output_type": "execute_result"
    }
   ],
   "source": [
    "dadosVazao['49330000'].iplot(kind='scatter', \n",
    "                             filename='Hidrogrma', \n",
    "                             yTitle='Vazão',\n",
    "                             xTitle='Data')"
   ]
  },
  {
   "cell_type": "code",
   "execution_count": 10,
   "metadata": {
    "collapsed": true
   },
   "outputs": [],
   "source": [
    "import plotly.figure_factory as ff"
   ]
  },
  {
   "cell_type": "code",
   "execution_count": 13,
   "metadata": {
    "collapsed": false
   },
   "outputs": [
    {
     "data": {
      "text/plain": [
       "Data\n",
       "1979-01-01   NaN\n",
       "1979-01-02   NaN\n",
       "1979-01-03   NaN\n",
       "1979-01-04   NaN\n",
       "1979-01-05   NaN\n",
       "Name: 44300000, dtype: float64"
      ]
     },
     "execution_count": 13,
     "metadata": {},
     "output_type": "execute_result"
    }
   ],
   "source": [
    "dadosVazao['44300000'].head()"
   ]
  },
  {
   "cell_type": "code",
   "execution_count": null,
   "metadata": {
    "collapsed": true
   },
   "outputs": [],
   "source": []
  },
  {
   "cell_type": "code",
   "execution_count": null,
   "metadata": {
    "collapsed": true
   },
   "outputs": [],
   "source": []
  }
 ],
 "metadata": {
  "kernelspec": {
   "display_name": "Python 3",
   "language": "python",
   "name": "python3"
  },
  "language_info": {
   "codemirror_mode": {
    "name": "ipython",
    "version": 3
   },
   "file_extension": ".py",
   "mimetype": "text/x-python",
   "name": "python",
   "nbconvert_exporter": "python",
   "pygments_lexer": "ipython3",
   "version": "3.5.2"
  }
 },
 "nbformat": 4,
 "nbformat_minor": 2
}
